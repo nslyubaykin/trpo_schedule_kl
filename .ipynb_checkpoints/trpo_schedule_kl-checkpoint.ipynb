{
 "cells": [
  {
   "cell_type": "markdown",
   "metadata": {},
   "source": [
    "# Scheduling Parameters with [ReLax](https://github.com/nslyubaykin/relax) (TRPO step KL divergence)\n",
    "\n",
    "\n",
    "For ReLAx & Mujoco installation see: https://github.com/nslyubaykin/relax/blob/master/README.md\n",
    "\n",
    "Useful readings regarding TRPO:\n",
    "    \n",
    "    TRPO paper: https://arxiv.org/abs/1502.05477\n",
    "    GAE paper: https://arxiv.org/abs/1506.02438\n",
    "    TRPO description: https://spinningup.openai.com/en/latest/algorithms/trpo.html\n",
    "\n",
    "!Note: For examining trained actor you may just load trained policies from \\trained_models directory. To do that instead of running 'Run Training and Validation loop' cell, just run 'Load Models' cell\n",
    "\n",
    "!Note: Trained policies, logs and videos are in the main repository of that notebook: https://github.com/nslyubaykin/trpo_schedule_kl"
   ]
  },
  {
   "cell_type": "code",
   "execution_count": 1,
   "metadata": {},
   "outputs": [
    {
     "name": "stderr",
     "output_type": "stream",
     "text": [
      "/home/nikita/.local/lib/python3.6/site-packages/tqdm/auto.py:22: TqdmWarning: IProgress not found. Please update jupyter and ipywidgets. See https://ipywidgets.readthedocs.io/en/stable/user_install.html\n",
      "  from .autonotebook import tqdm as notebook_tqdm\n"
     ]
    }
   ],
   "source": [
    "import gym\n",
    "import torch\n",
    "import numpy as np\n",
    "import matplotlib.pyplot as plt\n",
    "\n",
    "from tqdm import tqdm\n",
    "from inspect import getsource\n",
    "from torch.utils.tensorboard import SummaryWriter\n",
    "\n",
    "from relax.rl.actors import TRPO\n",
    "from relax.rl.critics import GAE\n",
    "\n",
    "from relax.schedules import *\n",
    "\n",
    "from relax.zoo.policies import CategoricalMLP, NormalMLP\n",
    "from relax.zoo.critics import VMLP\n",
    "\n",
    "from relax.data.sampling import Sampler\n",
    "\n",
    "from relax.gym.utils import visualize_actor"
   ]
  },
  {
   "cell_type": "markdown",
   "metadata": {},
   "source": [
    "# Defining TRPO actor and GAE critic\n",
    "\n",
    "In this example to demonstrate scheduling possibilities in ReLAx TRPO-GAE algorithm was used. For the brevity of this example detailed TRPO-GAE example was omitted. Use [this link](https://github.com/nslyubaykin/relax_trpo_example/blob/master/trpo_example.ipynb) to access TRPO-GAE tutorial."
   ]
  },
  {
   "cell_type": "markdown",
   "metadata": {},
   "source": [
    "# Create training and eval environments"
   ]
  },
  {
   "cell_type": "code",
   "execution_count": 16,
   "metadata": {},
   "outputs": [
    {
     "data": {
      "text/plain": [
       "[70]"
      ]
     },
     "execution_count": 16,
     "metadata": {},
     "output_type": "execute_result"
    }
   ],
   "source": [
    "env_name = 'LunarLander-v2'\n",
    "env = gym.make(env_name)\n",
    "eval_env = gym.make(env_name)\n",
    "eval_env.seed(np.random.randint(100))"
   ]
  },
  {
   "cell_type": "code",
   "execution_count": 17,
   "metadata": {},
   "outputs": [
    {
     "data": {
      "text/plain": [
       "Discrete(4)"
      ]
     },
     "execution_count": 17,
     "metadata": {},
     "output_type": "execute_result"
    }
   ],
   "source": [
    "env.action_space"
   ]
  },
  {
   "cell_type": "code",
   "execution_count": 18,
   "metadata": {},
   "outputs": [
    {
     "data": {
      "text/plain": [
       "Box(8,)"
      ]
     },
     "execution_count": 18,
     "metadata": {},
     "output_type": "execute_result"
    }
   ],
   "source": [
    "env.observation_space"
   ]
  },
  {
   "cell_type": "code",
   "execution_count": 19,
   "metadata": {},
   "outputs": [],
   "source": [
    "acs_dim = 4\n",
    "obs_dim = 8"
   ]
  },
  {
   "cell_type": "markdown",
   "metadata": {},
   "source": [
    "# Define `eps` schedule\n",
    "\n",
    "TRPO uses Fisher Information Matrix in order to control learning step KL-divergence (`eps`). Such setting helps to improve performance comparing to VPG by avoiding unsafe updates.\n",
    "\n",
    "We will now construct a non-trivial `eps` schedule for demonstration purposes only __(it may be very sub-optimal in terms of effective training)__ and then compare it to actually observed KL-divergence during the training phase."
   ]
  },
  {
   "cell_type": "code",
   "execution_count": 20,
   "metadata": {},
   "outputs": [
    {
     "data": {
      "image/png": "[encoded data removed]",
      "text/plain": [
       "<Figure size 432x288 with 1 Axes>"
      ]
     },
     "metadata": {
      "needs_background": "light"
     },
     "output_type": "display_data"
    }
   ],
   "source": [
    "eps1 = PiecewiseSchedule({0.0: 25,\n",
    "                          0.02: 30,\n",
    "                          0.01: 40}, 0.01)\n",
    "eps2 = ExponentialSchedule(gamma=0.95, start_value=0.06)\n",
    "#eps_schedule = eps2\n",
    "eps_schedule = CombinedSchedule(eps1, eps2, agg_func=np.sum)\n",
    "eps_schedule.plot(100)"
   ]
  },
  {
   "cell_type": "markdown",
   "metadata": {},
   "source": [
    "# Define TRPO actor:"
   ]
  },
  {
   "cell_type": "code",
   "execution_count": 21,
   "metadata": {},
   "outputs": [],
   "source": [
    "actor = TRPO(\n",
    "    policy_net=CategoricalMLP(obs_dim, acs_dim, \n",
    "                              nunits=64, nlayers=2),\n",
    "    device=torch.device('cuda'),\n",
    "    eps=eps_schedule # passing schedule instead of float\n",
    ")"
   ]
  },
  {
   "cell_type": "markdown",
   "metadata": {},
   "source": [
    "# Define GAE-$ \\lambda $ critic:"
   ]
  },
  {
   "cell_type": "code",
   "execution_count": 22,
   "metadata": {},
   "outputs": [],
   "source": [
    "critic = GAE(\n",
    "    critic_net=VMLP(obs_dim, nlayers=2, nunits=64),\n",
    "    device=torch.device('cuda'),\n",
    "    learning_rate=1e-4,\n",
    "    batch_size=4368,\n",
    "    gamma=0.99,\n",
    "    gae_lambda=0.95,\n",
    "    n_target_updates=1, \n",
    "    n_steps_per_update=20\n",
    ")"
   ]
  },
  {
   "cell_type": "markdown",
   "metadata": {},
   "source": [
    "# Provide actor with critic:"
   ]
  },
  {
   "cell_type": "code",
   "execution_count": 23,
   "metadata": {},
   "outputs": [],
   "source": [
    "actor.set_critic(critic)"
   ]
  },
  {
   "cell_type": "markdown",
   "metadata": {},
   "source": [
    "# Wrap envs into Sampler:"
   ]
  },
  {
   "cell_type": "code",
   "execution_count": 24,
   "metadata": {},
   "outputs": [],
   "source": [
    "sampler = Sampler(env=env)\n",
    "eval_sampler = Sampler(env=eval_env)"
   ]
  },
  {
   "cell_type": "markdown",
   "metadata": {},
   "source": [
    "# Run Training and Validation loop:"
   ]
  },
  {
   "cell_type": "code",
   "execution_count": 26,
   "metadata": {},
   "outputs": [
    {
     "name": "stderr",
     "output_type": "stream",
     "text": [
      "100%|██████████| 100/100 [2:02:55<00:00, 73.75s/it] \n"
     ]
    }
   ],
   "source": [
    "n_steps = 100\n",
    "logdir = '/home/nikita/Desktop/RelaxExamples/TRPOScheduleKL/tensorboard_logs'\n",
    "run_name = 'trpo_lander'\n",
    "logger = SummaryWriter(log_dir=f'{logdir}/{run_name}')\n",
    "all_logs = []\n",
    "\n",
    "for step in tqdm(range(n_steps)): \n",
    "    \n",
    "    # sample training batch\n",
    "    train_batch = sampler.sample(actor=actor,\n",
    "                                 n_transitions=40000,\n",
    "                                 max_path_length=None, \n",
    "                                 reset_when_not_done=False,\n",
    "                                 train_sampling=True)\n",
    "    \n",
    "    # update critic\n",
    "    critic_logs = critic.update(train_batch)\n",
    "        \n",
    "    # update actor\n",
    "    actor_logs = actor.update(train_batch)\n",
    "     \n",
    "    # evaluating the policy\n",
    "    eval_batch = eval_sampler.sample_n_episodes(actor=actor,\n",
    "                                                n_episodes=5,\n",
    "                                                max_path_length=None, \n",
    "                                                train_sampling=False)\n",
    "    # Logging\n",
    "    train_logs = train_batch.create_logs(prefix='train')\n",
    "    eval_logs = eval_batch.create_logs(prefix='eval')\n",
    "    \n",
    "    logs = {**critic_logs,\n",
    "            **actor_logs,\n",
    "            **train_logs,\n",
    "            **eval_logs}\n",
    "    all_logs.append(logs)\n",
    "\n",
    "    for key, value in logs.items():\n",
    "        logger.add_scalar(key, value, step)\n",
    "    \n",
    "logger.flush()"
   ]
  },
  {
   "cell_type": "code",
   "execution_count": 12,
   "metadata": {},
   "outputs": [
    {
     "data": {
      "text/html": [
       "\n",
       "      <iframe id=\"tensorboard-frame-472d363f6422873a\" width=\"100%\" height=\"800\" frameborder=\"0\">\n",
       "      </iframe>\n",
       "      <script>\n",
       "        (function() {\n",
       "          const frame = document.getElementById(\"tensorboard-frame-472d363f6422873a\");\n",
       "          const url = new URL(\"/\", window.location);\n",
       "          const port = 6006;\n",
       "          if (port) {\n",
       "            url.port = port;\n",
       "          }\n",
       "          frame.src = url;\n",
       "        })();\n",
       "      </script>\n",
       "    "
      ],
      "text/plain": [
       "<IPython.core.display.HTML object>"
      ]
     },
     "metadata": {},
     "output_type": "display_data"
    }
   ],
   "source": [
    "%load_ext tensorboard\n",
    "%tensorboard --logdir /home/nikita/Desktop/RelaxExamples/TRPOScheduleKL/tensorboard_logs"
   ]
  },
  {
   "cell_type": "markdown",
   "metadata": {},
   "source": [
    "# Plot Theoretical vs Actual KL-divergence"
   ]
  },
  {
   "cell_type": "code",
   "execution_count": 27,
   "metadata": {},
   "outputs": [
    {
     "data": {
      "image/png": "[encoded data removed]",
      "text/plain": [
       "<Figure size 432x288 with 1 Axes>"
      ]
     },
     "metadata": {
      "needs_background": "light"
     },
     "output_type": "display_data"
    }
   ],
   "source": [
    "theoretical_kl = [actor.eps.value(t) for t in range(100)]\n",
    "actual_kl = [l['TRPO_avg_step_kl_div'] for l in all_logs]\n",
    "\n",
    "plt.plot(theoretical_kl, label='Theoretical KL')\n",
    "plt.plot(actual_kl, label='Actual KL')\n",
    "plt.legend()\n",
    "plt.title(f'Theoretical vs Actual Step KL-divergence')\n",
    "plt.xlabel('Training step')\n",
    "plt.ylabel('KL-divergence')\n",
    "plt.show()"
   ]
  },
  {
   "cell_type": "markdown",
   "metadata": {},
   "source": [
    "# Save Models"
   ]
  },
  {
   "cell_type": "code",
   "execution_count": 28,
   "metadata": {},
   "outputs": [
    {
     "name": "stdout",
     "output_type": "stream",
     "text": [
      "Saved checkpoints for TRPO...\n",
      "models_state_dict global_step n_updates\n",
      "Saved checkpoints for GAE...\n",
      "models_state_dict global_step n_updates optimizer scheduler\n"
     ]
    },
    {
     "name": "stderr",
     "output_type": "stream",
     "text": [
      "/home/nikita/.local/lib/python3.6/site-packages/torch/optim/lr_scheduler.py:200: UserWarning: Please also save or load the state of the optimzer when saving or loading the scheduler.\n",
      "  warnings.warn(SAVE_STATE_WARNING, UserWarning)\n"
     ]
    }
   ],
   "source": [
    "actor.save_checkpoint('trained_models', 'trpo_actor')\n",
    "critic.save_checkpoint('trained_models', 'gae_critic')"
   ]
  },
  {
   "cell_type": "markdown",
   "metadata": {},
   "source": [
    "# Load Models"
   ]
  },
  {
   "cell_type": "code",
   "execution_count": 18,
   "metadata": {},
   "outputs": [],
   "source": [
    "actor.load_checkpoint('trained_models', 'trpo_actor')\n",
    "critic.load_checkpoint('trained_models', 'gae_critic')"
   ]
  }
 ],
 "metadata": {
  "kernelspec": {
   "display_name": "Python Relax",
   "language": "python",
   "name": "relax"
  },
  "language_info": {
   "codemirror_mode": {
    "name": "ipython",
    "version": 3
   },
   "file_extension": ".py",
   "mimetype": "text/x-python",
   "name": "python",
   "nbconvert_exporter": "python",
   "pygments_lexer": "ipython3",
   "version": "3.6.13"
  }
 },
 "nbformat": 4,
 "nbformat_minor": 4
}
